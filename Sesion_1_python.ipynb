{
  "nbformat": 4,
  "nbformat_minor": 0,
  "metadata": {
    "colab": {
      "provenance": []
    },
    "kernelspec": {
      "name": "python3",
      "display_name": "Python 3"
    },
    "language_info": {
      "name": "python"
    }
  },
  "cells": [
    {
      "cell_type": "markdown",
      "source": [
        "# Introduccion a python\n",
        "\n",
        "## Acerca de notebooks\n",
        "\n",
        "Los notebooks de python son archivos que estan organizados en *celdas* de **codigo** y **texto**\n",
        "\n",
        "Estos notebooks tienen la terminacion: **i p y n b**\n",
        "\n",
        "- i: en linea\n",
        "- py: python\n",
        "- nb: notebook\n",
        "\n"
      ],
      "metadata": {
        "id": "bk3rJRUmIR0u"
      }
    },
    {
      "cell_type": "markdown",
      "source": [
        "## Tipos de datos en python\n",
        "\n",
        "- `int`: datos tipo entero\n",
        "- `float`: datos con decimales\n",
        "- `str`: datos que contienen cadena de caracteres\n",
        "- `bool`: datos que contienen variable booleana"
      ],
      "metadata": {
        "id": "yuVcIgD3Jr1Q"
      }
    },
    {
      "cell_type": "code",
      "execution_count": null,
      "metadata": {
        "id": "bPG2FBVBHiw9",
        "colab": {
          "base_uri": "https://localhost:8080/"
        },
        "outputId": "28c1891d-f2d7-4d39-9f83-e8e85ed60534"
      },
      "outputs": [
        {
          "output_type": "stream",
          "name": "stdout",
          "text": [
            "el valor de la variable var1 es: 10\n",
            "el valor de la variable var2 es: 3.1\n"
          ]
        }
      ],
      "source": [
        "# declaracion de una variable tipo int\n",
        "var1 = 10\n",
        "print(\"el valor de la variable var1 es:\",var1)\n",
        "\n",
        "# declaracion de una variable tipo float:\n",
        "var2 = 3.1\n",
        "print(\"el valor de la variable var2 es:\",var2)\n"
      ]
    },
    {
      "cell_type": "code",
      "source": [
        "# declaracion de una variable tipo str\n",
        "var3 = \"hugo\"\n",
        "print(\"El valor de la variable var3 es\", var3)"
      ],
      "metadata": {
        "id": "gYpWFcXQNZid",
        "colab": {
          "base_uri": "https://localhost:8080/"
        },
        "outputId": "e6cefceb-e91d-4400-87ab-d85099c718bb"
      },
      "execution_count": null,
      "outputs": [
        {
          "output_type": "stream",
          "name": "stdout",
          "text": [
            "El valor de la variable var3 es hugo\n"
          ]
        }
      ]
    },
    {
      "cell_type": "code",
      "source": [
        "# Declaracion de una variable tipo booleana\n",
        "# Las variables booleanas solamente toman dos valores\n",
        "# True\n",
        "# False\n",
        "\n",
        "var_bool1 = True\n",
        "var_bool2 = False\n",
        "\n",
        "print(\"el valor de variable booleana 1 es:\", var_bool1)\n",
        "print(\"el valor de variable booleana 2 es:\", var_bool2)\n"
      ],
      "metadata": {
        "colab": {
          "base_uri": "https://localhost:8080/"
        },
        "id": "pGhfSjD5OXss",
        "outputId": "8f11cab9-a5eb-4dd7-a863-a2078167ce32"
      },
      "execution_count": null,
      "outputs": [
        {
          "output_type": "stream",
          "name": "stdout",
          "text": [
            "el valor de variable booleana 1 es: True\n",
            "el valor de variable booleana 2 es: False\n"
          ]
        }
      ]
    },
    {
      "cell_type": "markdown",
      "source": [
        "## Conversion de variables\n"
      ],
      "metadata": {
        "id": "bIlgo37rIB6d"
      }
    },
    {
      "cell_type": "code",
      "source": [
        "#Conversion de int a float\n",
        "a1 = 7\n",
        "# a2 es la conversion a float desde una variable entera\n",
        "a2 = float(a1)\n",
        "\n",
        "print(\"el valor de la variable a1 es\", a1)\n",
        "print(\"el valor de la variable a2 es\", a2)"
      ],
      "metadata": {
        "id": "4VNRyaxfPSm7",
        "colab": {
          "base_uri": "https://localhost:8080/"
        },
        "outputId": "04fc4c4f-0635-46b8-d8a5-01668448759a"
      },
      "execution_count": null,
      "outputs": [
        {
          "output_type": "stream",
          "name": "stdout",
          "text": [
            "el valor de la variable a1 es 7\n",
            "el valor de la variable a2 es 7.0\n"
          ]
        }
      ]
    },
    {
      "cell_type": "code",
      "source": [
        "# Conversion de float a int\n",
        "b1 = 3.91\n",
        "# b2 es la conversion a int de b1\n",
        "b2 = int(b1)\n",
        "print(\"el valor de la variable b1 es\", b1)\n",
        "print(\"el valor de la variable b2 es\", b2)\n"
      ],
      "metadata": {
        "colab": {
          "base_uri": "https://localhost:8080/"
        },
        "id": "tAPuu6M-SJFJ",
        "outputId": "dff42f1c-eb6c-4b70-82f4-298f413f52de"
      },
      "execution_count": null,
      "outputs": [
        {
          "output_type": "stream",
          "name": "stdout",
          "text": [
            "el valor de la variable b1 es 3.91\n",
            "el valor de la variable b2 es 3\n"
          ]
        }
      ]
    },
    {
      "cell_type": "code",
      "source": [
        "# conversion de bool a int\n",
        "d1 = True\n",
        "d2 = int(d1)\n",
        "print(\"el valor de la variable d1 es:\",d1)\n",
        "print(\"el valor de la variable d2 es:\",d2)"
      ],
      "metadata": {
        "colab": {
          "base_uri": "https://localhost:8080/"
        },
        "id": "UxyvjWsaSbJq",
        "outputId": "4f5787c7-ef37-4a4d-92dd-d32fc3508380"
      },
      "execution_count": null,
      "outputs": [
        {
          "output_type": "stream",
          "name": "stdout",
          "text": [
            "el valor de la variable d1 es: True\n",
            "el valor de la variable d2 es: 1\n"
          ]
        }
      ]
    },
    {
      "cell_type": "markdown",
      "source": [
        "## Operadores aritmeticos\n"
      ],
      "metadata": {
        "id": "F5fVIwoSUDrn"
      }
    },
    {
      "cell_type": "code",
      "source": [
        "# Operador modulo: %\n",
        "# Obtiene el residuo de una division\n",
        "# 7/2 =3.5\n",
        "# 7   =2*3 +1\n",
        "# residuo de 7/2 es 1\n",
        "\n",
        "# 8/3 = 2.67\n",
        "# 8   = 3*2 + 2\n",
        "# Residuo de 8/3 es 2\n",
        "\n",
        "var3 = 8%3\n",
        "print(\"El residuo de dividir 8 entre 3 es\", var3)\n"
      ],
      "metadata": {
        "colab": {
          "base_uri": "https://localhost:8080/"
        },
        "id": "sfSmWxyaS3OQ",
        "outputId": "ffbf56a3-0f6f-48c5-9941-e948fda4169f"
      },
      "execution_count": null,
      "outputs": [
        {
          "output_type": "stream",
          "name": "stdout",
          "text": [
            "El residuo de dividir 8 entre 3 es 2\n"
          ]
        }
      ]
    },
    {
      "cell_type": "code",
      "source": [
        "# Operador de division entera:\n",
        "# muestra el resultado del menor entero que resulta de la division entre 2 numeros\n",
        "# 7/2  = 3.5\n",
        "# 7//2 = 3\n",
        "print(\"division entera entre 7 y 2 es:\", 7//2)"
      ],
      "metadata": {
        "colab": {
          "base_uri": "https://localhost:8080/"
        },
        "id": "oHLQz9nsU3cE",
        "outputId": "e07e58be-d7eb-44f8-879e-bf5a857499d1"
      },
      "execution_count": null,
      "outputs": [
        {
          "output_type": "stream",
          "name": "stdout",
          "text": [
            "division entera entre 7 y 2 es: 3\n"
          ]
        }
      ]
    },
    {
      "cell_type": "code",
      "source": [
        "# -7/2 = -3.5\n",
        "# -7//2 = -4\n",
        "print(\"division entera entre -7 y 2 es:\", -7//2)"
      ],
      "metadata": {
        "colab": {
          "base_uri": "https://localhost:8080/"
        },
        "id": "pnU9s4zaVVHm",
        "outputId": "2dd84c58-516d-43bb-b6a3-1319d3a8cf80"
      },
      "execution_count": null,
      "outputs": [
        {
          "output_type": "stream",
          "name": "stdout",
          "text": [
            "division entera entre -7 y 2 es: -4\n"
          ]
        }
      ]
    },
    {
      "cell_type": "code",
      "source": [
        "segundomodelo = \"clustering \""
      ],
      "metadata": {
        "id": "VxeVsm-LVnaL"
      },
      "execution_count": null,
      "outputs": []
    },
    {
      "cell_type": "markdown",
      "source": [
        "## Operadores de comparacion\n",
        "\n",
        "El resultado de los operadores de comparacion es una variable booleana"
      ],
      "metadata": {
        "id": "RmNhrAbPXJO8"
      }
    },
    {
      "cell_type": "code",
      "source": [
        "print(\"4>=3\", 4>=3)"
      ],
      "metadata": {
        "colab": {
          "base_uri": "https://localhost:8080/"
        },
        "id": "8AecaYOsWhbI",
        "outputId": "472f04cd-3d4f-410e-dc25-1d36e3ba2fb1"
      },
      "execution_count": null,
      "outputs": [
        {
          "output_type": "stream",
          "name": "stdout",
          "text": [
            "4>=3 True\n"
          ]
        }
      ]
    },
    {
      "cell_type": "code",
      "source": [
        "print(\"4!=3\",4!=3)"
      ],
      "metadata": {
        "colab": {
          "base_uri": "https://localhost:8080/"
        },
        "id": "jCveTBjXXUsQ",
        "outputId": "62a6c0a5-eab6-43e6-ea52-c4620cb0b2c0"
      },
      "execution_count": null,
      "outputs": [
        {
          "output_type": "stream",
          "name": "stdout",
          "text": [
            "4!=3 True\n"
          ]
        }
      ]
    },
    {
      "cell_type": "markdown",
      "source": [
        "## Operadores de asignacion"
      ],
      "metadata": {
        "id": "HYmLy_sCYBNU"
      }
    },
    {
      "cell_type": "code",
      "source": [
        "# algunos operadores de asignacion:\n",
        "m = 10\n",
        "m+= -20  # m = m + (-20) => -10\n",
        "print(\"el valor de m es: \", m)"
      ],
      "metadata": {
        "colab": {
          "base_uri": "https://localhost:8080/"
        },
        "id": "7dsT9CBNXbCA",
        "outputId": "20e6c70f-6a71-41f3-8e65-ab78a2880b98"
      },
      "execution_count": null,
      "outputs": [
        {
          "output_type": "stream",
          "name": "stdout",
          "text": [
            "el valor de m es:  -10\n"
          ]
        }
      ]
    },
    {
      "cell_type": "code",
      "source": [
        "m =5\n",
        "m %= 10  # m = m%10 => 5\n",
        "print(\"el valor de m es\",m)\n"
      ],
      "metadata": {
        "colab": {
          "base_uri": "https://localhost:8080/"
        },
        "id": "fOiZXc-sYTYs",
        "outputId": "2c275a7a-7998-485e-8b04-0103512db383"
      },
      "execution_count": null,
      "outputs": [
        {
          "output_type": "stream",
          "name": "stdout",
          "text": [
            "el valor de m es 5\n"
          ]
        }
      ]
    },
    {
      "cell_type": "markdown",
      "source": [
        "## Operadores logicos\n",
        "\n",
        "Existen tres operadores logicos:\n",
        "\n",
        "AND, OR, NOT\n",
        "\n",
        "Operan sobre variables booleanas"
      ],
      "metadata": {
        "id": "rS5EmnQQZA_n"
      }
    },
    {
      "cell_type": "code",
      "source": [
        "# AND   X1 and X2\n",
        "# Tabla de verdad:\n",
        "'''\n",
        "X1    X2      X1 and X2\n",
        "True  False     False\n",
        "True  True      True\n",
        "False False     False\n",
        "False True      False\n",
        "'''\n",
        "nombre   = True\n",
        "apellido = False\n",
        "siguiente_paso = nombre and apellido\n",
        "print(\"el usuario puede ir al siguiente paso?\", siguiente_paso)\n"
      ],
      "metadata": {
        "colab": {
          "base_uri": "https://localhost:8080/"
        },
        "id": "cWR0-aMTYm91",
        "outputId": "506bfd22-9944-49f2-8e3c-b00a0ad689b7"
      },
      "execution_count": null,
      "outputs": [
        {
          "output_type": "stream",
          "name": "stdout",
          "text": [
            "el usuario puede ir al siguiente paso? False\n"
          ]
        }
      ]
    },
    {
      "cell_type": "code",
      "source": [
        "# or   X1 or X2\n",
        "# Tabla de verdad:\n",
        "'''\n",
        "X1    X2      X1 or X2\n",
        "True  False     True\n",
        "True  True      True\n",
        "False False     False\n",
        "False True      True\n",
        "'''\n",
        "nombre_1 = True\n",
        "nombre_2 = False\n",
        "siguiente_paso = nombre_1 or nombre_2\n",
        "print(\"el usuario puede ir al siguiente paso?\", siguiente_paso)"
      ],
      "metadata": {
        "colab": {
          "base_uri": "https://localhost:8080/"
        },
        "id": "vDp6WSioaAiC",
        "outputId": "6b94e11e-3f40-42f4-c0d3-6fe2e480e64a"
      },
      "execution_count": null,
      "outputs": [
        {
          "output_type": "stream",
          "name": "stdout",
          "text": [
            "el usuario puede ir al siguiente paso? True\n"
          ]
        }
      ]
    },
    {
      "cell_type": "code",
      "source": [
        "# not  not(X1)\n",
        "# tabla de verdad:\n",
        "'''\n",
        "X1      not(X1)\n",
        "True    False\n",
        "False   True\n",
        "'''\n",
        "print(\"negacion de siguiente_paso\", not(siguiente_paso))"
      ],
      "metadata": {
        "colab": {
          "base_uri": "https://localhost:8080/"
        },
        "id": "yZ99ssqZapWv",
        "outputId": "a52f20d0-8187-4747-9701-360b25e1ca48"
      },
      "execution_count": null,
      "outputs": [
        {
          "output_type": "stream",
          "name": "stdout",
          "text": [
            "negacion de siguiente_paso False\n"
          ]
        }
      ]
    },
    {
      "cell_type": "code",
      "source": [
        "# Aplicacion en filtros\n",
        "# Filtro1 = datos de las personas que contengan una cuenta en un banco determinado\n",
        "# Filtro2 = datos de las personas que se encuentran casadas\n",
        "# Filtro3 = datos de las personas que tengan mora bancaria\n",
        "# Filtro4 = datos de las personas que han viajado al exterior en los ultimos 6 meses\n",
        "\n",
        "# Filtro final :\n",
        "'''\n",
        "- Personas que no se encuentran con mora y\n",
        "- (Personas que tengan una cuenta en un banco determinado o\n",
        "- Personas que han viajado en los ultimos 6 meses) y\n",
        "- Personas que se encuentran casadas\n",
        "'''\n",
        "\n",
        "filtro1 = True\n",
        "filtro2 = False\n",
        "filtro3 = True\n",
        "filtro4 = True\n",
        "filtro_final = (not(filtro3)) and( filtro1 or filtro4) and (filtro2)\n",
        "print(\"el resultado del filtro final es:\",filtro_final)\n"
      ],
      "metadata": {
        "colab": {
          "base_uri": "https://localhost:8080/"
        },
        "id": "6Jjf_tqQbCXq",
        "outputId": "135063cf-1406-4eaf-ce53-d461a64d41bc"
      },
      "execution_count": null,
      "outputs": [
        {
          "output_type": "stream",
          "name": "stdout",
          "text": [
            "el resultado del filtro final es: False\n"
          ]
        }
      ]
    },
    {
      "cell_type": "code",
      "source": [],
      "metadata": {
        "id": "WjwLA-Dec3Ug"
      },
      "execution_count": null,
      "outputs": []
    }
  ]
}