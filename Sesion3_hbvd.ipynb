{
 "cells": [
  {
   "cell_type": "markdown",
   "id": "7995baa8-37d6-4ecd-aaf7-05309b159dfb",
   "metadata": {},
   "source": [
    "# Sesion 3\n",
    "\n",
    "## Bucles/ Loops\n",
    "\n",
    "### Bucle for"
   ]
  },
  {
   "cell_type": "code",
   "execution_count": 1,
   "id": "09932cf7-a527-48fa-88a4-b3e5ff23cb8f",
   "metadata": {},
   "outputs": [
    {
     "name": "stdout",
     "output_type": "stream",
     "text": [
      "la variable actual en la iteracion es: p\n",
      "la variable actual en la iteracion es: y\n",
      "la variable actual en la iteracion es: t\n",
      "la variable actual en la iteracion es: h\n",
      "la variable actual en la iteracion es: o\n",
      "la variable actual en la iteracion es: n\n"
     ]
    }
   ],
   "source": [
    "# bucle for\n",
    "var_str = \"python\"\n",
    "for letra in var_str:\n",
    "    print(\"la variable actual en la iteracion es:\", letra)"
   ]
  },
  {
   "cell_type": "code",
   "execution_count": 2,
   "id": "5b189dd7-f5cb-4dc1-8f42-c51556d07126",
   "metadata": {},
   "outputs": [
    {
     "name": "stdout",
     "output_type": "stream",
     "text": [
      "elemento /10= 3.0\n",
      "elemento /10= 4.0\n",
      "elemento /10= 5.0\n"
     ]
    }
   ],
   "source": [
    "lista_1 = [30,40,50]\n",
    "for elemento in lista_1:\n",
    "    print(\"elemento /10=\", elemento/10)"
   ]
  },
  {
   "cell_type": "code",
   "execution_count": 6,
   "id": "a2d5f1d9-40ee-440c-b9c9-c562041e1307",
   "metadata": {},
   "outputs": [
    {
     "name": "stdout",
     "output_type": "stream",
     "text": [
      "1\n",
      "3\n",
      "5\n",
      "7\n",
      "9\n"
     ]
    }
   ],
   "source": [
    "for var1 in range(1,10,2):\n",
    "    print(var1)"
   ]
  },
  {
   "cell_type": "markdown",
   "id": "ff141f46-bb16-4f82-8b10-a31ebd4193b1",
   "metadata": {},
   "source": [
    "### Bucle while"
   ]
  },
  {
   "cell_type": "code",
   "execution_count": 7,
   "id": "4119e322-5353-48ec-af79-656bce689642",
   "metadata": {},
   "outputs": [
    {
     "data": {
      "text/plain": [
       "['mandarina', 'manzana', 'plátano', 'kiwi', 'manzana', 'plátano']"
      ]
     },
     "execution_count": 7,
     "metadata": {},
     "output_type": "execute_result"
    }
   ],
   "source": [
    "frutas = ['mandarina', 'manzana', 'pera', 'plátano', 'kiwi', 'manzana', 'plátano']\n",
    "frutas.remove(\"pera\")\n",
    "frutas"
   ]
  },
  {
   "cell_type": "code",
   "execution_count": 8,
   "id": "c70c8905-71cd-4db5-936a-b09512efec77",
   "metadata": {},
   "outputs": [
    {
     "data": {
      "text/plain": [
       "True"
      ]
     },
     "execution_count": 8,
     "metadata": {},
     "output_type": "execute_result"
    }
   ],
   "source": [
    "(\"manzana\" in frutas)"
   ]
  },
  {
   "cell_type": "code",
   "execution_count": 9,
   "id": "449a0869-b172-4382-b239-11a2bd97f8ba",
   "metadata": {},
   "outputs": [
    {
     "name": "stdout",
     "output_type": "stream",
     "text": [
      "manzana se encuentra en frutas? True\n",
      "manzana se encuentra en frutas? False\n",
      "['mandarina', 'plátano', 'kiwi', 'plátano']\n"
     ]
    }
   ],
   "source": [
    "while (\"manzana\" in frutas):\n",
    "    frutas.remove(\"manzana\")\n",
    "    print(\"manzana se encuentra en frutas?\",(\"manzana\"in frutas))\n",
    "\n",
    "print(frutas)"
   ]
  },
  {
   "cell_type": "markdown",
   "id": "484c0c99-b351-40ec-bd1b-d8b5d2bf9a49",
   "metadata": {},
   "source": [
    "## Diccionarios"
   ]
  },
  {
   "cell_type": "code",
   "execution_count": 10,
   "id": "b8eb7e46-f7c9-47ac-a66d-49242aeffbb3",
   "metadata": {},
   "outputs": [
    {
     "name": "stdout",
     "output_type": "stream",
     "text": [
      "{'Peru': 'Lima', 'Colombia': 'Bogota'}\n"
     ]
    }
   ],
   "source": [
    "dict_a = {\"Peru\":\"Lima\",\"Colombia\":\"Bogota\"}\n",
    "print(dict_a)"
   ]
  },
  {
   "cell_type": "code",
   "execution_count": 11,
   "id": "3d612b46-4bcf-48da-bb04-b37f8ffa016b",
   "metadata": {},
   "outputs": [
    {
     "data": {
      "text/plain": [
       "'Lima'"
      ]
     },
     "execution_count": 11,
     "metadata": {},
     "output_type": "execute_result"
    }
   ],
   "source": [
    "# Acceder a los elementos del diccionario:\n",
    "dict_a[\"Peru\"]"
   ]
  },
  {
   "cell_type": "code",
   "execution_count": 13,
   "id": "cade6d2c-4274-4ab3-9e6d-28d62fd4916c",
   "metadata": {},
   "outputs": [
    {
     "name": "stdout",
     "output_type": "stream",
     "text": [
      "{'Peru': 'Lima', 'Colombia': 'Bogota', 'Argentina': 'Buenos Aires'}\n"
     ]
    }
   ],
   "source": [
    "# Adicionar elementos al diccionario\n",
    "dict_a[\"Argentina\"] = \"Buenos Aires\"\n",
    "print(dict_a)"
   ]
  },
  {
   "cell_type": "code",
   "execution_count": 15,
   "id": "07c62521-cfbb-4af5-ba21-cda1599c6dcc",
   "metadata": {},
   "outputs": [
    {
     "name": "stdout",
     "output_type": "stream",
     "text": [
      "{'Peru': 'Lima', 'Colombia': 'Bogota', 'Argentina': 'Buenos Aires', 'Ecuador': 'Guayaquil'}\n"
     ]
    }
   ],
   "source": [
    "dict_a[\"Ecuador\"] = \"Guayaquil\"\n",
    "print(dict_a)"
   ]
  },
  {
   "cell_type": "code",
   "execution_count": 16,
   "id": "47013527-07e8-4d6a-823a-5e36de932182",
   "metadata": {},
   "outputs": [
    {
     "name": "stdout",
     "output_type": "stream",
     "text": [
      "{'Peru': 'Lima', 'Colombia': 'Bogota', 'Argentina': 'Buenos Aires', 'Ecuador': 'Quito'}\n"
     ]
    }
   ],
   "source": [
    "# los valores en un diccionario son mutables\n",
    "dict_a[\"Ecuador\"] = \"Quito\"\n",
    "print(dict_a)"
   ]
  },
  {
   "cell_type": "code",
   "execution_count": 17,
   "id": "254211b0-6b3b-47f6-b02b-6ab0383a8c6f",
   "metadata": {},
   "outputs": [
    {
     "name": "stdout",
     "output_type": "stream",
     "text": [
      "{'Peru': 'Lima', 'Colombia': 'Bogota', 'Argentina': 'Buenos Aires', 'Ecuador': 'Quito', 'Uruguuat': 'Montevideo'}\n"
     ]
    }
   ],
   "source": [
    "dict_a[\"Uruguuat\"] = \"Montevideo\"\n",
    "print(dict_a)"
   ]
  },
  {
   "cell_type": "code",
   "execution_count": 18,
   "id": "47dac577-5006-4fe4-8bdb-c024c8b4b564",
   "metadata": {},
   "outputs": [
    {
     "name": "stdout",
     "output_type": "stream",
     "text": [
      "{'Peru': 'Lima', 'Colombia': 'Bogota', 'Argentina': 'Buenos Aires', 'Ecuador': 'Quito'}\n"
     ]
    }
   ],
   "source": [
    "# las claves en un diccionario son inmutables\n",
    "del(dict_a[\"Uruguuat\"])\n",
    "print(dict_a)"
   ]
  },
  {
   "cell_type": "code",
   "execution_count": 19,
   "id": "5286ed86-fefc-41f4-ab36-b82a85485536",
   "metadata": {},
   "outputs": [
    {
     "name": "stdout",
     "output_type": "stream",
     "text": [
      "{'Peru': 'Lima', 'Colombia': 'Bogota', 'Argentina': 'Buenos Aires', 'Ecuador': 'Quito', 'Uruguay': 'Montevideo'}\n"
     ]
    }
   ],
   "source": [
    "dict_a[\"Uruguay\"]= \"Montevideo\"\n",
    "print(dict_a)"
   ]
  },
  {
   "cell_type": "code",
   "execution_count": 23,
   "id": "adced3e2-312f-4001-ae3b-86cbc49ec94a",
   "metadata": {},
   "outputs": [
    {
     "data": {
      "text/plain": [
       "[('Peru', 'Lima'),\n",
       " ('Colombia', 'Bogota'),\n",
       " ('Argentina', 'Buenos Aires'),\n",
       " ('Ecuador', 'Quito'),\n",
       " ('Uruguay', 'Montevideo')]"
      ]
     },
     "execution_count": 23,
     "metadata": {},
     "output_type": "execute_result"
    }
   ],
   "source": [
    "list(dict_a.items())"
   ]
  },
  {
   "cell_type": "code",
   "execution_count": 24,
   "id": "29caa6aa-749d-4abc-8ea1-3182eb346542",
   "metadata": {},
   "outputs": [
    {
     "data": {
      "text/plain": [
       "('Peru', 'Lima')"
      ]
     },
     "execution_count": 24,
     "metadata": {},
     "output_type": "execute_result"
    }
   ],
   "source": [
    "list(dict_a.items())[0]"
   ]
  },
  {
   "cell_type": "code",
   "execution_count": 25,
   "id": "e43a0e88-2baf-4bec-8d7a-7b51d563390c",
   "metadata": {},
   "outputs": [
    {
     "data": {
      "text/plain": [
       "'Peru'"
      ]
     },
     "execution_count": 25,
     "metadata": {},
     "output_type": "execute_result"
    }
   ],
   "source": [
    "list(dict_a.items())[0][0]"
   ]
  },
  {
   "cell_type": "code",
   "execution_count": 26,
   "id": "870f5015-541d-4cc6-9556-d78cc36b475d",
   "metadata": {},
   "outputs": [
    {
     "data": {
      "text/plain": [
       "dict_values(['Lima', 'Bogota', 'Buenos Aires', 'Quito', 'Montevideo'])"
      ]
     },
     "execution_count": 26,
     "metadata": {},
     "output_type": "execute_result"
    }
   ],
   "source": [
    "dict_a.values()"
   ]
  },
  {
   "cell_type": "code",
   "execution_count": 27,
   "id": "7fddb0ca-08fb-4431-942d-afd0039d85c1",
   "metadata": {},
   "outputs": [
    {
     "data": {
      "text/plain": [
       "dict_keys(['Peru', 'Colombia', 'Argentina', 'Ecuador', 'Uruguay'])"
      ]
     },
     "execution_count": 27,
     "metadata": {},
     "output_type": "execute_result"
    }
   ],
   "source": [
    "dict_a.keys()"
   ]
  },
  {
   "cell_type": "markdown",
   "id": "351349e5-68bc-4d85-89ad-9356dd864497",
   "metadata": {},
   "source": [
    "## Tuplas"
   ]
  },
  {
   "cell_type": "code",
   "execution_count": 28,
   "id": "a42284e4-4705-4690-91ac-2e3d88c067e2",
   "metadata": {},
   "outputs": [
    {
     "name": "stdout",
     "output_type": "stream",
     "text": [
      "('azul', 'rojo', 'verde')\n"
     ]
    }
   ],
   "source": [
    "# las tuplas se definen utilizando parentesis:\n",
    "tupla_1 = (\"azul\", \"rojo\", \"verde\")\n",
    "print(tupla_1)"
   ]
  },
  {
   "cell_type": "code",
   "execution_count": 30,
   "id": "6cdef8a2-5613-49c5-a5bb-e0f594e2d8fb",
   "metadata": {},
   "outputs": [
    {
     "ename": "TypeError",
     "evalue": "'tuple' object does not support item assignment",
     "output_type": "error",
     "traceback": [
      "\u001b[1;31m---------------------------------------------------------------------------\u001b[0m",
      "\u001b[1;31mTypeError\u001b[0m                                 Traceback (most recent call last)",
      "Input \u001b[1;32mIn [30]\u001b[0m, in \u001b[0;36m<cell line: 2>\u001b[1;34m()\u001b[0m\n\u001b[0;32m      1\u001b[0m \u001b[38;5;66;03m# los elementos de una tupla son inmutables\u001b[39;00m\n\u001b[1;32m----> 2\u001b[0m tupla_1[\u001b[38;5;241m0\u001b[39m] \u001b[38;5;241m=\u001b[39m \u001b[38;5;124m\"\u001b[39m\u001b[38;5;124mblue\u001b[39m\u001b[38;5;124m\"\u001b[39m\n",
      "\u001b[1;31mTypeError\u001b[0m: 'tuple' object does not support item assignment"
     ]
    }
   ],
   "source": [
    "# los elementos de una tupla son inmutables\n",
    "tupla_1[0] = \"blue\""
   ]
  },
  {
   "cell_type": "code",
   "execution_count": 31,
   "id": "f480ae07-ce50-4cf8-830c-b27696717f9a",
   "metadata": {},
   "outputs": [
    {
     "data": {
      "text/plain": [
       "'azul'"
      ]
     },
     "execution_count": 31,
     "metadata": {},
     "output_type": "execute_result"
    }
   ],
   "source": [
    "tupla_1[0]"
   ]
  },
  {
   "cell_type": "code",
   "execution_count": 33,
   "id": "edafcaa3-df0c-45e0-98f1-1e09ad8b9ad6",
   "metadata": {},
   "outputs": [
    {
     "data": {
      "text/plain": [
       "(5,)"
      ]
     },
     "execution_count": 33,
     "metadata": {},
     "output_type": "execute_result"
    }
   ],
   "source": [
    "# tupla de un solo elemento:\n",
    "tupla_2 = (5,)\n",
    "tupla_2"
   ]
  },
  {
   "cell_type": "code",
   "execution_count": 34,
   "id": "f49cf9fb-8d85-4319-8520-a0a5db396dc2",
   "metadata": {},
   "outputs": [
    {
     "name": "stdout",
     "output_type": "stream",
     "text": [
      "5 3\n"
     ]
    }
   ],
   "source": [
    "# asignacion multiple de variables:\n",
    "u,v = 5,3\n",
    "print(u,v)"
   ]
  },
  {
   "cell_type": "code",
   "execution_count": 35,
   "id": "54eee50c-9ed6-4db7-afbe-4dc70dfc699c",
   "metadata": {},
   "outputs": [
    {
     "name": "stdout",
     "output_type": "stream",
     "text": [
      "5 3\n"
     ]
    }
   ],
   "source": [
    "u,v = (5,3)\n",
    "print(u,v)"
   ]
  },
  {
   "cell_type": "code",
   "execution_count": 36,
   "id": "e8946b91-cf17-468a-85ab-d6fed505b85f",
   "metadata": {},
   "outputs": [
    {
     "name": "stdout",
     "output_type": "stream",
     "text": [
      "(5, 3)\n"
     ]
    }
   ],
   "source": [
    "w = (5,3)\n",
    "print(w)"
   ]
  },
  {
   "cell_type": "markdown",
   "id": "8f39b4f9-74a1-4905-8f04-fdd80938f4b6",
   "metadata": {},
   "source": [
    "## Comprension de listas\n"
   ]
  },
  {
   "cell_type": "code",
   "execution_count": 38,
   "id": "e23606be-f565-4038-8a31-b65ebcbc4334",
   "metadata": {},
   "outputs": [
    {
     "data": {
      "text/plain": [
       "['modelo_0', 'modelo_1', 'modelo_2', 'modelo_3', 'modelo_4']"
      ]
     },
     "execution_count": 38,
     "metadata": {},
     "output_type": "execute_result"
    }
   ],
   "source": [
    "lista_modelos = []\n",
    "for nombre_mod in range(5):\n",
    "    lista_modelos.append(\"modelo_\"+str(nombre_mod))\n",
    "lista_modelos"
   ]
  },
  {
   "cell_type": "code",
   "execution_count": 39,
   "id": "91923b42-ca61-4265-890a-48d1e2c595f2",
   "metadata": {},
   "outputs": [
    {
     "name": "stdout",
     "output_type": "stream",
     "text": [
      "['modelo_0', 'modelo_1', 'modelo_2', 'modelo_3', 'modelo_4']\n"
     ]
    }
   ],
   "source": [
    "# utilizando comprension de listas\n",
    "list_mod_c =[\"modelo_\"+str(nombre_mod) for nombre_mod in range(5)  ]\n",
    "print(list_mod_c)"
   ]
  },
  {
   "cell_type": "code",
   "execution_count": null,
   "id": "9cdaeb01-88c5-4906-864a-949ac699e118",
   "metadata": {},
   "outputs": [],
   "source": []
  }
 ],
 "metadata": {
  "kernelspec": {
   "display_name": "Python 3 (ipykernel)",
   "language": "python",
   "name": "python3"
  },
  "language_info": {
   "codemirror_mode": {
    "name": "ipython",
    "version": 3
   },
   "file_extension": ".py",
   "mimetype": "text/x-python",
   "name": "python",
   "nbconvert_exporter": "python",
   "pygments_lexer": "ipython3",
   "version": "3.10.2"
  }
 },
 "nbformat": 4,
 "nbformat_minor": 5
}
