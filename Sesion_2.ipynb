{
  "nbformat": 4,
  "nbformat_minor": 0,
  "metadata": {
    "colab": {
      "provenance": []
    },
    "kernelspec": {
      "name": "python3",
      "display_name": "Python 3"
    },
    "language_info": {
      "name": "python"
    }
  },
  "cells": [
    {
      "cell_type": "markdown",
      "source": [
        "## Control de flujo en python\n"
      ],
      "metadata": {
        "id": "cdWq4R7wgKDZ"
      }
    },
    {
      "cell_type": "code",
      "execution_count": 2,
      "metadata": {
        "colab": {
          "base_uri": "https://localhost:8080/"
        },
        "id": "Hsg-VjJTgB1r",
        "outputId": "ae4cf8d1-ffdc-4e97-8cd3-3d5cb34c8264"
      },
      "outputs": [
        {
          "output_type": "stream",
          "name": "stdout",
          "text": [
            "este es un mensaje en python\n",
            "el valor de la variable 2 es 20\n",
            "el valor de la variable 1 es 10\n"
          ]
        }
      ],
      "source": [
        "print(\"este es un mensaje en python\")\n",
        "var1 = 10\n",
        "# hacer correr las 2  lineas siguientes bajo una condicion\n",
        "if (5>2):\n",
        "    var2 = 20\n",
        "    print(\"el valor de la variable 2 es\", var2)\n",
        "print(\"el valor de la variable 1 es\", var1)"
      ]
    },
    {
      "cell_type": "code",
      "source": [
        "print(\"este es un mensaje en python\")\n",
        "var1 = 10\n",
        "# hacer correr las 2  lineas siguientes bajo una condicion\n",
        "if (5>20):\n",
        "    var2 = 20\n",
        "    print(\"el valor de la variable 2 es\", var2)\n",
        "else:\n",
        "  var3 = 30\n",
        "  print(\"el valor de la variable 3 es:\", var3)\n",
        "print(\"el valor de la variable 1 es\", var1)"
      ],
      "metadata": {
        "colab": {
          "base_uri": "https://localhost:8080/"
        },
        "id": "jgpFeQFgiO9m",
        "outputId": "772ef163-9c99-4202-d650-40564d798789"
      },
      "execution_count": 4,
      "outputs": [
        {
          "output_type": "stream",
          "name": "stdout",
          "text": [
            "este es un mensaje en python\n",
            "el valor de la variable 3 es: 30\n",
            "el valor de la variable 1 es 10\n"
          ]
        }
      ]
    },
    {
      "cell_type": "markdown",
      "source": [
        "## Listas en python\n",
        "\n",
        "- Una lista es una coleccion ordenada"
      ],
      "metadata": {
        "id": "JLw8_yJKmIbT"
      }
    },
    {
      "cell_type": "code",
      "source": [
        "#           0  1  2\n",
        "lista_1 = [10,30,50]\n",
        "#          -3 -2 -1\n",
        "print(\"primer elemento de la lista:\", lista_1[0])\n",
        "print(\"el ultimo elemento de la lista:\",lista_1[-1])"
      ],
      "metadata": {
        "colab": {
          "base_uri": "https://localhost:8080/"
        },
        "id": "4MoJPgHdmOqV",
        "outputId": "42a24c9d-cace-4e22-aa81-8a7fb434658a"
      },
      "execution_count": 7,
      "outputs": [
        {
          "output_type": "stream",
          "name": "stdout",
          "text": [
            "primer elemento de la lista: 10\n",
            "el ultimo elemento de la lista: 50\n"
          ]
        }
      ]
    },
    {
      "cell_type": "markdown",
      "source": [
        "- Una lista es re-dimensionable"
      ],
      "metadata": {
        "id": "oYxEpXUKnFN5"
      }
    },
    {
      "cell_type": "code",
      "source": [
        "# es posible aumentar/reducir el numero de elementos de la lista\n",
        "# .append() permite la integracion de un elemento al final de la lista\n",
        "lista_1 = []\n",
        "print(\"la lista 1:\",lista_1)\n",
        "lista_1.append(3)\n",
        "print(\"la lista 1 despues de agregar elementos:\",lista_1)"
      ],
      "metadata": {
        "colab": {
          "base_uri": "https://localhost:8080/"
        },
        "id": "-0I9b9gkmgTd",
        "outputId": "c96fac29-8752-4861-b00c-01cb76b077ae"
      },
      "execution_count": 9,
      "outputs": [
        {
          "output_type": "stream",
          "name": "stdout",
          "text": [
            "la lista 1: []\n",
            "la lista 1 despues de agregar elementos: [3]\n"
          ]
        }
      ]
    },
    {
      "cell_type": "markdown",
      "source": [
        "- Una lista puede contener distintos tipos de elementos"
      ],
      "metadata": {
        "id": "HlNYRUTFolko"
      }
    },
    {
      "cell_type": "code",
      "source": [
        "lista_2 = [3, \"hola\", True, lista_1]\n",
        "print(\"la lista 2 tiene como elementnos \", lista_2)"
      ],
      "metadata": {
        "colab": {
          "base_uri": "https://localhost:8080/"
        },
        "id": "uKsAzyS-oc2p",
        "outputId": "e849c9b5-dfb2-456f-f6c7-2c42b05f872a"
      },
      "execution_count": 10,
      "outputs": [
        {
          "output_type": "stream",
          "name": "stdout",
          "text": [
            "la lista 2 tiene como elementnos  [3, 'hola', True, [3]]\n"
          ]
        }
      ]
    },
    {
      "cell_type": "code",
      "source": [
        "#                0         1        2        3          4      5           6\n",
        "frutas = ['mandarina', 'manzana', 'pera', 'platano', 'kiwi', 'manzana', 'platano']"
      ],
      "metadata": {
        "id": "dwErlXbno8WJ"
      },
      "execution_count": 11,
      "outputs": []
    },
    {
      "cell_type": "code",
      "source": [
        "# acceso a los elementos\n",
        "print(\"acceso al primer elemento:\", frutas[0])\n",
        "print(\"acceso a los 3 primeros elementos\", frutas[0:3])\n",
        "print(\"acceso a los elementos pares\",frutas[0: :2])\n",
        "print(\"acceso a los elementos imperas\", frutas[1: :2])\n",
        "print(\"acceso de atras hacia adelante\", frutas[-1: :-1])"
      ],
      "metadata": {
        "colab": {
          "base_uri": "https://localhost:8080/"
        },
        "id": "79mndxBBpu15",
        "outputId": "9c1d41ba-d29a-4ac9-882e-a5647f9774d2"
      },
      "execution_count": 19,
      "outputs": [
        {
          "output_type": "stream",
          "name": "stdout",
          "text": [
            "acceso al primer elemento: mandarina\n",
            "acceso a los 3 primeros elementos ['mandarina', 'manzana', 'pera']\n",
            "acceso a los elementos pares ['mandarina', 'pera', 'kiwi', 'platano']\n",
            "acceso a los elementos imperas ['manzana', 'platano', 'manzana']\n",
            "acceso de atras hacia adelante ['platano', 'manzana', 'kiwi', 'platano', 'pera', 'manzana', 'mandarina']\n"
          ]
        }
      ]
    },
    {
      "cell_type": "code",
      "source": [
        "# funcion: len()  encuentra el numero de elementos en una estructura\n",
        "print(len(frutas))\n"
      ],
      "metadata": {
        "colab": {
          "base_uri": "https://localhost:8080/"
        },
        "id": "9rmBOajvp9ZI",
        "outputId": "163d2a2b-9eb2-41ee-a5d9-07ea47881bf7"
      },
      "execution_count": 20,
      "outputs": [
        {
          "output_type": "stream",
          "name": "stdout",
          "text": [
            "7\n"
          ]
        }
      ]
    },
    {
      "cell_type": "code",
      "source": [
        "# metodo  .count()\n",
        "# cuenta el numero de elementos que aparecen en una lista:\n",
        "print(frutas.count(\"platano\"))"
      ],
      "metadata": {
        "colab": {
          "base_uri": "https://localhost:8080/"
        },
        "id": "yqfvREUbsFyw",
        "outputId": "5a8232db-8fba-4fbb-afdf-ee530a923c6e"
      },
      "execution_count": 21,
      "outputs": [
        {
          "output_type": "stream",
          "name": "stdout",
          "text": [
            "2\n"
          ]
        }
      ]
    },
    {
      "cell_type": "markdown",
      "source": [
        "#s2"
      ],
      "metadata": {
        "id": "8f8mSQwGswSP"
      }
    },
    {
      "cell_type": "code",
      "source": [
        "# metodo .index()\n",
        "print(frutas)\n",
        "frutas.index(\"manzana\",2)"
      ],
      "metadata": {
        "colab": {
          "base_uri": "https://localhost:8080/"
        },
        "id": "zAZW1fWssfBF",
        "outputId": "162f5e71-bd22-4a3c-cd69-e129f4550b03"
      },
      "execution_count": 23,
      "outputs": [
        {
          "output_type": "stream",
          "name": "stdout",
          "text": [
            "['mandarina', 'manzana', 'pera', 'platano', 'kiwi', 'manzana', 'platano']\n"
          ]
        },
        {
          "output_type": "execute_result",
          "data": {
            "text/plain": [
              "5"
            ]
          },
          "metadata": {},
          "execution_count": 23
        }
      ]
    },
    {
      "cell_type": "code",
      "source": [
        "#frutas.index(\"uvas\") # existe error"
      ],
      "metadata": {
        "id": "iJeRtUWCvenz"
      },
      "execution_count": 25,
      "outputs": []
    },
    {
      "cell_type": "code",
      "source": [
        "# metodo reverse:\n",
        "# invierte los elementos de una lista y los guarda en memoria\n",
        "print(frutas)\n",
        "frutas.reverse() # este metodo no retorna valores/ retorna None\n",
        "frutas_inv = frutas.reverse()\n",
        "\n",
        "print(frutas)\n",
        "print(frutas_inv)"
      ],
      "metadata": {
        "colab": {
          "base_uri": "https://localhost:8080/"
        },
        "id": "bB40byM1vpND",
        "outputId": "37d822b3-63ac-4161-b9fa-0aafe7c21798"
      },
      "execution_count": 27,
      "outputs": [
        {
          "output_type": "stream",
          "name": "stdout",
          "text": [
            "['platano', 'manzana', 'kiwi', 'platano', 'pera', 'manzana', 'mandarina']\n",
            "['platano', 'manzana', 'kiwi', 'platano', 'pera', 'manzana', 'mandarina']\n",
            "None\n"
          ]
        }
      ]
    },
    {
      "cell_type": "code",
      "source": [
        "print(frutas)\n",
        "frutas.sort(reverse=True)\n",
        "print(frutas)"
      ],
      "metadata": {
        "colab": {
          "base_uri": "https://localhost:8080/"
        },
        "id": "YBvesYorwuoA",
        "outputId": "c7224ad4-bc1a-4daf-b826-607adf24dd44"
      },
      "execution_count": 29,
      "outputs": [
        {
          "output_type": "stream",
          "name": "stdout",
          "text": [
            "['kiwi', 'mandarina', 'manzana', 'manzana', 'pera', 'platano', 'platano']\n",
            "['platano', 'platano', 'pera', 'manzana', 'manzana', 'mandarina', 'kiwi']\n"
          ]
        }
      ]
    },
    {
      "cell_type": "code",
      "source": [
        "lista_2 = [\"d4\", \"d1\",\"4\"]\n",
        "lista_2.sort()\n",
        "lista_2"
      ],
      "metadata": {
        "colab": {
          "base_uri": "https://localhost:8080/"
        },
        "id": "No_ggfk7yFdy",
        "outputId": "7316b82a-eeab-4532-fb67-0246824a260c"
      },
      "execution_count": 33,
      "outputs": [
        {
          "output_type": "execute_result",
          "data": {
            "text/plain": [
              "['4', 'd1', 'd4']"
            ]
          },
          "metadata": {},
          "execution_count": 33
        }
      ]
    },
    {
      "cell_type": "code",
      "source": [
        "# append\n",
        "# es el metodo mas utilizado en listas\n",
        "print(frutas)\n",
        "frutas.append(\"uvas\")\n",
        "print(frutas)"
      ],
      "metadata": {
        "colab": {
          "base_uri": "https://localhost:8080/"
        },
        "id": "RLEju2icysra",
        "outputId": "c5f55c14-6e95-45b8-da09-07c2ed65ea25"
      },
      "execution_count": 35,
      "outputs": [
        {
          "output_type": "stream",
          "name": "stdout",
          "text": [
            "['platano', 'platano', 'pera', 'manzana', 'manzana', 'mandarina', 'kiwi', 'uvas']\n",
            "['platano', 'platano', 'pera', 'manzana', 'manzana', 'mandarina', 'kiwi', 'uvas', 'uvas']\n"
          ]
        }
      ]
    },
    {
      "cell_type": "code",
      "source": [
        "frutas.pop()\n",
        "print(frutas)"
      ],
      "metadata": {
        "colab": {
          "base_uri": "https://localhost:8080/"
        },
        "id": "cF4GhBu0zuVn",
        "outputId": "9df5d418-86c5-431c-a64f-6df8434a1869"
      },
      "execution_count": 36,
      "outputs": [
        {
          "output_type": "stream",
          "name": "stdout",
          "text": [
            "['platano', 'platano', 'pera', 'manzana', 'manzana', 'mandarina', 'kiwi', 'uvas']\n"
          ]
        }
      ]
    },
    {
      "cell_type": "code",
      "source": [
        "del(frutas[-1])"
      ],
      "metadata": {
        "id": "Scg_O4GT0Feo"
      },
      "execution_count": 37,
      "outputs": []
    },
    {
      "cell_type": "code",
      "source": [
        "print(frutas)"
      ],
      "metadata": {
        "colab": {
          "base_uri": "https://localhost:8080/"
        },
        "id": "8Gm9C1bs0O-_",
        "outputId": "b22da4f8-350d-4cf5-c560-1a7e97169847"
      },
      "execution_count": 38,
      "outputs": [
        {
          "output_type": "stream",
          "name": "stdout",
          "text": [
            "['platano', 'platano', 'pera', 'manzana', 'manzana', 'mandarina', 'kiwi']\n"
          ]
        }
      ]
    },
    {
      "cell_type": "code",
      "source": [
        "# metodo .insert\n",
        "frutas.insert(2,\"uvas\")\n",
        "print(frutas)"
      ],
      "metadata": {
        "colab": {
          "base_uri": "https://localhost:8080/"
        },
        "id": "bibqaY760Q8l",
        "outputId": "6fc908e5-fc8d-4856-9486-7d1b36a20116"
      },
      "execution_count": 39,
      "outputs": [
        {
          "output_type": "stream",
          "name": "stdout",
          "text": [
            "['platano', 'platano', 'uvas', 'pera', 'manzana', 'manzana', 'mandarina', 'kiwi']\n"
          ]
        }
      ]
    },
    {
      "cell_type": "code",
      "source": [
        "# metodo .remove\n",
        "frutas = ['platano', 'platano', 'uvas', 'pera', 'manzana', 'manzana', 'mandarina', 'kiwi']\n",
        "frutas.remove(\"kiwi\")\n",
        "print(frutas)"
      ],
      "metadata": {
        "colab": {
          "base_uri": "https://localhost:8080/"
        },
        "id": "JO5nJxro0ucR",
        "outputId": "c9c92215-e630-42a4-c079-4acee1686d56"
      },
      "execution_count": 42,
      "outputs": [
        {
          "output_type": "stream",
          "name": "stdout",
          "text": [
            "['platano', 'platano', 'uvas', 'pera', 'manzana', 'manzana', 'mandarina']\n"
          ]
        }
      ]
    },
    {
      "cell_type": "code",
      "source": [
        "frutas.remove(\"manzana\")\n",
        "print(frutas)"
      ],
      "metadata": {
        "colab": {
          "base_uri": "https://localhost:8080/"
        },
        "id": "lY6IxqW51Pgd",
        "outputId": "da81e7ff-e9e8-403a-e12d-16d55565e922"
      },
      "execution_count": 43,
      "outputs": [
        {
          "output_type": "stream",
          "name": "stdout",
          "text": [
            "['platano', 'platano', 'uvas', 'pera', 'manzana', 'mandarina']\n"
          ]
        }
      ]
    },
    {
      "cell_type": "code",
      "source": [
        "# metodo .copy\n",
        "lista_a = [10,20,30,40]\n",
        "lista_b = lista_a\n",
        "lista_b[0] = 0\n",
        "lista_a[-1] = 0\n",
        "print(lista_a)\n",
        "print(lista_b)\n",
        "# aliasing"
      ],
      "metadata": {
        "colab": {
          "base_uri": "https://localhost:8080/"
        },
        "id": "G02ri7K-1pMu",
        "outputId": "2bd3c78e-bd2b-4a10-d004-2b6f408979e3"
      },
      "execution_count": 45,
      "outputs": [
        {
          "output_type": "stream",
          "name": "stdout",
          "text": [
            "[0, 20, 30, 0]\n",
            "[0, 20, 30, 0]\n"
          ]
        }
      ]
    },
    {
      "cell_type": "markdown",
      "source": [
        "## Listas anidadas\n"
      ],
      "metadata": {
        "id": "uh-w-ye14sHS"
      }
    },
    {
      "cell_type": "code",
      "source": [
        "nested_a = [\n",
        "[10, 20, 30, 40, 50],\n",
        "[1, 2, 3, 4, 5],\n",
        "[15, 20, 25, 30, 35],\n",
        "[100, 200, 300, 400, 500]\n",
        "]\n"
      ],
      "metadata": {
        "id": "pUjOHQmo4vyV"
      },
      "execution_count": 46,
      "outputs": []
    },
    {
      "cell_type": "code",
      "source": [
        "nested_a[1][2]"
      ],
      "metadata": {
        "colab": {
          "base_uri": "https://localhost:8080/"
        },
        "id": "TtmIIYgO4xNK",
        "outputId": "efdea1d1-e61e-473a-f6dd-3ffd789e067f"
      },
      "execution_count": 47,
      "outputs": [
        {
          "output_type": "execute_result",
          "data": {
            "text/plain": [
              "3"
            ]
          },
          "metadata": {},
          "execution_count": 47
        }
      ]
    },
    {
      "cell_type": "code",
      "source": [],
      "metadata": {
        "id": "E0YFEjaI5Gmb"
      },
      "execution_count": null,
      "outputs": []
    }
  ]
}