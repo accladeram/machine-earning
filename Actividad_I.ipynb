{
  "cells": [
    {
      "cell_type": "markdown",
      "metadata": {
        "id": "6N_RVdIhNIh5"
      },
      "source": [
        "# <img style=\"float: left; padding-right: 20px; height: 70px\" src=\"https://i.imgur.com/cMzxwTN.jpg\"> Herramientas Básicas de Visualización de Datos   \n",
        "\n",
        "## Actividad `I` , sesion III\n",
        "\n",
        "\n",
        "**Universidad Privada Boliviana**<br/>\n",
        "**Diplomado en Machine Learning y Ciencia de Datos**<br/>\n",
        "\n"
      ]
    },
    {
      "cell_type": "markdown",
      "metadata": {
        "id": "4THIVfrRNIh6"
      },
      "source": [
        "## Manipulación de listas usando bucles de python.\n",
        "> La indexación es muy útil para manipular listas. Sin embargo, las selecciones específicas de una lista necesitan que iteremos sobre cada elemento de la lista antes de hacer una selección."
      ]
    },
    {
      "cell_type": "code",
      "execution_count": 2,
      "metadata": {
        "id": "9UvqxT5dNIh7"
      },
      "outputs": [],
      "source": [
        "# Funcion de ayuda.\n",
        "# Hacer correr este bloque sin modificar el codigo\n",
        "import random\n",
        "test_list = [i for i in range(2000)]\n",
        "test_list = random.sample(test_list,1000)\n",
        "\n",
        "chess_board = [8*['W'],8*['W'],8*[' '],8*[' '],8*[' '],8*[' '],8*['B'],8*['B']]"
      ]
    },
    {
      "cell_type": "code",
      "execution_count": 3,
      "metadata": {
        "colab": {
          "base_uri": "https://localhost:8080/"
        },
        "id": "MVB4UtljNIh7",
        "outputId": "4e41b71e-19e0-411d-815b-f2cb4d4ef648"
      },
      "outputs": [
        {
          "output_type": "stream",
          "name": "stdout",
          "text": [
            "[169, 90, 1709, 1803, 54, 1697, 396, 1721, 1441, 573]\n"
          ]
        }
      ],
      "source": [
        "# imprimir los primeros 10 elementos de `test_list`\n",
        "print(test_list[:10:])"
      ]
    },
    {
      "cell_type": "code",
      "execution_count": 8,
      "metadata": {
        "colab": {
          "base_uri": "https://localhost:8080/"
        },
        "id": "pjopEe1HNIh8",
        "outputId": "c4433972-b619-4479-aece-d52bb0406f35"
      },
      "outputs": [
        {
          "output_type": "stream",
          "name": "stdout",
          "text": [
            "[0, 1, 3, 6, 9, 11, 13, 14, 16, 17]\n"
          ]
        }
      ],
      "source": [
        "#Ordene el contenido de test list, llame esta variable sorted_list\n",
        "# verifique el contenido de `test_list` después de ordenarlo\n",
        "sorted_list = sorted(test_list)\n",
        "# Imprime los primeros diez elementos de sorted_list\n",
        "print(sorted_list[:10:])"
      ]
    },
    {
      "cell_type": "markdown",
      "metadata": {
        "id": "FH_ueFSqNIh8"
      },
      "source": [
        "### ⏸ ¿Qué método de lista puede usar para agregar un solo elemento a la lista?\n",
        "\n",
        "#### A. `append()`\n",
        "#### B. `extend()`\n",
        "#### C. `add()`\n",
        "#### D. `pop()`\n"
      ]
    },
    {
      "cell_type": "code",
      "execution_count": 6,
      "metadata": {
        "id": "3Bo4-2h-NIh8"
      },
      "outputs": [],
      "source": [
        "\n",
        "# Envíe una opción de respuesta como una cadena a continuación (por ejemplo, si elige la opción A, escriba 'A')\n",
        "answer1 = 'A'"
      ]
    },
    {
      "cell_type": "code",
      "execution_count": 9,
      "metadata": {
        "colab": {
          "base_uri": "https://localhost:8080/"
        },
        "id": "cSxTutvGNIh9",
        "outputId": "b32f1912-5f97-4e6c-c628-f7ee7195f4ba"
      },
      "outputs": [
        {
          "output_type": "stream",
          "name": "stdout",
          "text": [
            "[0, 6, 14, 16, 20, 26, 28, 30, 36, 40]\n"
          ]
        }
      ],
      "source": [
        "# Esta vez, use un bucle for para encontrar todos los números pares y agréguelos a 'even_list'\n",
        "even_list = []\n",
        "for item in sorted_list:\n",
        "    if item%2==0:\n",
        "      even_list.append(item)\n",
        "\n",
        "# Comprueba si la lista consta solo de números pares\n",
        "print(even_list[:10])"
      ]
    },
    {
      "cell_type": "code",
      "execution_count": 10,
      "metadata": {
        "colab": {
          "base_uri": "https://localhost:8080/"
        },
        "id": "E3pAqNgQNIh9",
        "outputId": "285628f4-ac6c-474f-eb4a-243514586bd6"
      },
      "outputs": [
        {
          "output_type": "stream",
          "name": "stdout",
          "text": [
            "[1, 3, 9, 11, 13, 17, 21, 23, 27, 29]\n"
          ]
        }
      ],
      "source": [
        "# Nuevamente use un ciclo para encontrar todos los números impares y agréguelos a 'odd_list'\n",
        "odd_list = []\n",
        "for item in sorted_list:\n",
        "        if item%2!=0:\n",
        "          odd_list.append(item)\n",
        "\n",
        "# Comprueba si la lista consta solo de enteros impares\n",
        "print(odd_list[:10])"
      ]
    },
    {
      "cell_type": "markdown",
      "metadata": {
        "id": "3j4cpJWDNIh9"
      },
      "source": [
        "### 🍲 Para el siguiente código, ¿cuándo se imprimirá `¡Buena elección!`?\n",
        "\n",
        "```python\n",
        "while True:\n",
        "    name = input('Cual es tu color favorito?')\n",
        "    if name == 'rojo':\n",
        "        break\n",
        "print(\"¡Buena elección!\")\n",
        "```\n",
        "#### A. el usuario ingresa `rojo`\n",
        "#### B. el usuario usa `command/ctrl + C` para salir del bucle\n",
        "#### C. entradas de usuario `Rojo`\n",
        "#### Todo lo anterior"
      ]
    },
    {
      "cell_type": "code",
      "execution_count": null,
      "metadata": {
        "id": "JWkSiyOfNIh-"
      },
      "outputs": [],
      "source": [
        "# Envíe una opción de respuesta como un string (por ejemplo, si elige la opción A, escriba 'A')\n",
        "answer2 = 'A'"
      ]
    }
  ],
  "metadata": {
    "kernelspec": {
      "display_name": "Python 3.10.4 64-bit",
      "language": "python",
      "name": "python3"
    },
    "language_info": {
      "codemirror_mode": {
        "name": "ipython",
        "version": 3
      },
      "file_extension": ".py",
      "mimetype": "text/x-python",
      "name": "python",
      "nbconvert_exporter": "python",
      "pygments_lexer": "ipython3",
      "version": "3.10.4"
    },
    "vscode": {
      "interpreter": {
        "hash": "f66e3edf856e3e4a3652763ddb6c2ab1c25665e5b9e1fed087bb1a040433f3bb"
      }
    },
    "colab": {
      "provenance": []
    }
  },
  "nbformat": 4,
  "nbformat_minor": 0
}